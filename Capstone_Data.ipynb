{
    "cells": [
        {
            "cell_type": "markdown",
            "metadata": {
                "collapsed": true
            },
            "source": "## Capstone Data"
        },
        {
            "cell_type": "markdown",
            "metadata": {},
            "source": "## Data <a name=\"data\"></a>\n\nBased on definition of our problem, factors that will influence our decision are:\n* The total number of crimes commited in each of the borough during the last year.\n* The most common venues in each of the neighborhood in the safest borough selected.\n\nFollowing data sources will be needed to extract/generate the required information:\n\n- [**Part 1**: Preprocessing a real world data set from Kaggle showing the London Crimes from 2008 to 2016](#part1):  A dataset consisting of the crime statistics of each borough in London obtained from Kaggle\n- [**Part 2**: Scraping additional information of the different Boroughs in London from a Wikipedia page.](#part2): More information regarding the boroughs of London is scraped using the Beautifulsoup library\n- [**Part 3**: Creating a new dataset of the Neighborhoods of the safest borough in London and generating their co-ordinates.](#part3): Co-ordinate of neighborhood will be obtained using **Google Maps API or Foursquare geocoding**"
        },
        {
            "cell_type": "markdown",
            "metadata": {},
            "source": "### Part 1: Preprocessing a real world data set from Kaggle showing the London Crimes from 2008 to 2016<a name=\"part1\"></a>\n\n\n####  London Crime Data \n\nAbout this file\n\n- lsoa_code: code for Lower Super Output Area in Greater London.\n- borough: Common name for London borough.\n- major_category: High level categorization of crime\n- minor_category: Low level categorization of crime within major category.\n- value: monthly reported count of categorical crime in given borough\n- year: Year of reported counts, 2008-2016\n- month: Month of reported counts, 1-12\n\nData set URL: https://www.kaggle.com/jboysen/london-crime"
        },
        {
            "cell_type": "code",
            "execution_count": null,
            "metadata": {},
            "outputs": [
                {
                    "name": "stdout",
                    "output_type": "stream",
                    "text": "Solving environment: | "
                }
            ],
            "source": "import requests # library to handle requests\nimport pandas as pd # library for data analsysis\nimport numpy as np # library to handle data in a vectorized manner\nimport random # library for random number generation\nfrom bs4 import BeautifulSoup # library for web scrapping  \n\n!conda install -c conda-forge geocoder --yes\nimport geocoder\n\n!conda install -c conda-forge geopy --yes \nfrom geopy.geocoders import Nominatim # module to convert an address into latitude and longitude values\n\n# libraries for displaying images\nfrom IPython.display import Image \nfrom IPython.core.display import HTML \n    \n# tranforming json file into a pandas dataframe library\nfrom pandas.io.json import json_normalize\n\n!conda install -c conda-forge folium=0.5.0 --yes\nimport folium # plotting library\n\nprint('Folium installed')\nprint('Libraries imported.')"
        },
        {
            "cell_type": "markdown",
            "metadata": {},
            "source": "#### Define Foursquare Credentials and Version\nMake sure that you have created a Foursquare developer account and have your credentials handy"
        },
        {
            "cell_type": "code",
            "execution_count": null,
            "metadata": {},
            "outputs": [],
            "source": "CLIENT_ID = 'LJB534MNVKNBS3M1IWFRJIFYSIVCNVBB3WHCIX0VJIYDMHFV' # your Foursquare ID\nCLIENT_SECRET = 'INXBHAGUZIBFC15QIOG3NT3S42B1EKBFQ2U3VPTBBS5EERVM' # your Foursquare Secret\n\nVERSION = '20180604'\nLIMIT = 30\n\nprint('Your credentails:')\nprint('CLIENT_ID: ' + CLIENT_ID)\nprint('CLIENT_SECRET:' + CLIENT_SECRET)"
        },
        {
            "cell_type": "markdown",
            "metadata": {},
            "source": "#### Read in the dataset"
        },
        {
            "cell_type": "code",
            "execution_count": null,
            "metadata": {},
            "outputs": [],
            "source": "df = pd.read_csv(\"london_crime_by_lsoa.csv\")"
        },
        {
            "cell_type": "code",
            "execution_count": null,
            "metadata": {},
            "outputs": [],
            "source": "df.head()"
        },
        {
            "cell_type": "markdown",
            "metadata": {},
            "source": "#### Accessing the most recent crime rates (2016)"
        },
        {
            "cell_type": "code",
            "execution_count": null,
            "metadata": {},
            "outputs": [],
            "source": "df.drop(df.index[df['year'] != 2016], inplace = True)\ndf = df[df.value != 0]\ndf = df.reset_index(drop=True)\ndf.shape()"
        },
        {
            "cell_type": "code",
            "execution_count": null,
            "metadata": {},
            "outputs": [],
            "source": "df.head()"
        },
        {
            "cell_type": "markdown",
            "metadata": {},
            "source": "#### Change the column names "
        },
        {
            "cell_type": "code",
            "execution_count": null,
            "metadata": {},
            "outputs": [],
            "source": "df.columns = ['LSOA_Code', 'Borough','Major_Category','Minor_Category','No_of_Crimes','Year','Month']\ndf.head()"
        },
        {
            "cell_type": "code",
            "execution_count": null,
            "metadata": {},
            "outputs": [],
            "source": "df.info()"
        },
        {
            "cell_type": "markdown",
            "metadata": {},
            "source": "#### Total number of crimes in each Borough"
        },
        {
            "cell_type": "code",
            "execution_count": null,
            "metadata": {},
            "outputs": [],
            "source": "df['Borough'].value_counts()"
        },
        {
            "cell_type": "markdown",
            "metadata": {},
            "source": "#### The total crimes per major category"
        },
        {
            "cell_type": "code",
            "execution_count": null,
            "metadata": {},
            "outputs": [],
            "source": "df['Major_Category'].value_counts()"
        },
        {
            "cell_type": "markdown",
            "metadata": {},
            "source": "#### Pivoting the table to view the number of crimes for each major category in each Borough "
        },
        {
            "cell_type": "code",
            "execution_count": null,
            "metadata": {},
            "outputs": [],
            "source": "London_crime = pd.pivot_table(df,values=['No_of_Crimes'],\n                               index=['Borough'],\n                               columns=['Major_Category'],\n                               aggfunc=np.sum,fill_value=0)\nLondon_crime.head()"
        },
        {
            "cell_type": "code",
            "execution_count": null,
            "metadata": {},
            "outputs": [],
            "source": "London_crime.reset_index(inplace = True)\nLondon_crime['Total'] = London_crime.sum(axis=1)\nLondon_crime.head(33)"
        },
        {
            "cell_type": "markdown",
            "metadata": {},
            "source": "#### Removing the multi index to merge"
        },
        {
            "cell_type": "code",
            "execution_count": null,
            "metadata": {},
            "outputs": [],
            "source": "London_crime.columns = London_crime.columns.map(''.join)\nLondon_crime.head()"
        },
        {
            "cell_type": "code",
            "execution_count": null,
            "metadata": {},
            "outputs": [],
            "source": "London_crime.columns = ['Borough','Burglary', 'Criminal Damage','Drugs','Other Notifiable Offences',\n                        'Robbery','Theft and Handling','Violence Against the Person','Total']\nLondon_crime.head()"
        },
        {
            "cell_type": "code",
            "execution_count": null,
            "metadata": {},
            "outputs": [],
            "source": "London_crime.shape"
        },
        {
            "cell_type": "markdown",
            "metadata": {},
            "source": "### Part 2: Scraping additional information of the different Boroughs in London from a Wikipedia page <a name=\"part2\"></a>\n \n**Using Beautiful soup to scrap the latitude and longitiude of the boroughs in London**\n\nURL: https://en.wikipedia.org/wiki/List_of_London_boroughs"
        },
        {
            "cell_type": "code",
            "execution_count": null,
            "metadata": {},
            "outputs": [],
            "source": "wikipedia_link='https://en.wikipedia.org/wiki/List_of_London_boroughs'\nraw_wikipedia_page= requests.get(wikipedia_link).text\nsoup = BeautifulSoup(raw_wikipedia_page,'xml')\nprint(soup.prettify()"
        },
        {
            "cell_type": "code",
            "execution_count": null,
            "metadata": {},
            "outputs": [],
            "source": "table = soup.find_all('table', {'class':'wikitable sortable'})\nprint(table)"
        },
        {
            "cell_type": "code",
            "execution_count": null,
            "metadata": {},
            "outputs": [],
            "source": "London_table = pd.read_html(str(table[0]), index_col=None, header=0)[0]\nLondon_table.head()"
        },
        {
            "cell_type": "markdown",
            "metadata": {},
            "source": "#### The second table on the site contains the addition Borough i.e. City of London"
        },
        {
            "cell_type": "code",
            "execution_count": null,
            "metadata": {},
            "outputs": [],
            "source": "London_table1 = pd.read_html(str(table[1]), index_col=None, header=0)[0]\nLondon_table1.columns = ['Borough','Inner','Status','Local authority','Political control',\n                         'Headquarters','Area (sq mi)','Population (2013 est)[1]','Co-ordinates','Nr. in map']\n\nLondon_table1"
        },
        {
            "cell_type": "code",
            "execution_count": null,
            "metadata": {},
            "outputs": [],
            "source": "London_table = London_table.append(London_table1, ignore_index = True) \nLondon_table.head()"
        },
        {
            "cell_type": "code",
            "execution_count": null,
            "metadata": {},
            "outputs": [],
            "source": "# Check the last row\nLondon_table.tail()"
        },
        {
            "cell_type": "markdown",
            "metadata": {},
            "source": "#### Info table"
        },
        {
            "cell_type": "code",
            "execution_count": null,
            "metadata": {},
            "outputs": [],
            "source": "London_table.info()"
        },
        {
            "cell_type": "code",
            "execution_count": null,
            "metadata": {},
            "outputs": [],
            "source": "# remove unecessary data\nLondon_table = London_table.replace('note 1','', regex=True) \nLondon_table = London_table.replace('note 2','', regex=True) \nLondon_table = London_table.replace('note 3','', regex=True) \nLondon_table = London_table.replace('note 4','', regex=True) \nLondon_table = London_table.replace('note 5','', regex=True) \nLondon_table.head()"
        },
        {
            "cell_type": "code",
            "execution_count": null,
            "metadata": {},
            "outputs": [],
            "source": "type(London_table)"
        },
        {
            "cell_type": "code",
            "execution_count": null,
            "metadata": {},
            "outputs": [],
            "source": "London_table.shape"
        },
        {
            "cell_type": "code",
            "execution_count": null,
            "metadata": {},
            "outputs": [],
            "source": "# Check if data is match\nset(df.Borough) - set(London_table.Borough)"
        },
        {
            "cell_type": "code",
            "execution_count": null,
            "metadata": {},
            "outputs": [],
            "source": "# find index that don't match\nprint(\"The index of first borough is\",London_table.index[London_table['Borough'] == 'Barking and Dagenham []'].tolist())\nprint(\"The index of second borough is\",London_table.index[London_table['Borough'] == 'Greenwich []'].tolist())\nprint(\"The index of third borough is\",London_table.index[London_table['Borough'] == 'Hammersmith and Fulham []'].tolist())"
        },
        {
            "cell_type": "markdown",
            "metadata": {},
            "source": "#### Changing the Borough names to match the other data frame"
        },
        {
            "cell_type": "code",
            "execution_count": null,
            "metadata": {},
            "outputs": [],
            "source": "London_table.iloc[0,0] = 'Barking and Dagenham'\nLondon_table.iloc[9,0] = 'Greenwich'\nLondon_table.iloc[11,0] = 'Hammersmith and Fulham'"
        },
        {
            "cell_type": "markdown",
            "metadata": {},
            "source": "#### Check if the Borough names in both data sets match"
        },
        {
            "cell_type": "code",
            "execution_count": null,
            "metadata": {},
            "outputs": [],
            "source": "set(df.Borough) - set(London_table.Borough)"
        },
        {
            "cell_type": "markdown",
            "metadata": {},
            "source": "#### Combine both the data frames together\n"
        },
        {
            "cell_type": "code",
            "execution_count": null,
            "metadata": {},
            "outputs": [],
            "source": "Ld_crime = pd.merge(London_crime, London_table, on='Borough')\nLd_crime.head(10)"
        },
        {
            "cell_type": "code",
            "execution_count": null,
            "metadata": {},
            "outputs": [],
            "source": "Ld_crime.shape"
        },
        {
            "cell_type": "code",
            "execution_count": null,
            "metadata": {},
            "outputs": [],
            "source": "set(df.Borough) - set(Ld_crime.Borough)"
        },
        {
            "cell_type": "code",
            "execution_count": null,
            "metadata": {},
            "outputs": [],
            "source": "list(Ld_crime)"
        },
        {
            "cell_type": "code",
            "execution_count": null,
            "metadata": {},
            "outputs": [],
            "source": "columnsTitles = ['Borough','Local authority','Political control','Headquarters',\n                 'Area (sq mi)','Population (2013 est)[1]',\n                 'Inner','Status',\n                 'Burglary','Criminal Damage','Drugs','Other Notifiable Offences',\n                 'Robbery','Theft and Handling','Violence Against the Person','Total','Co-ordinates']\n\nLd_crime = Ld_crime.reindex(columns=columnsTitles)\n\nLd_crime = Ld_crime[['Borough','Local authority','Political control','Headquarters',\n                 'Area (sq mi)','Population (2013 est)[1]','Co-ordinates',\n                 'Burglary','Criminal Damage','Drugs','Other Notifiable Offences',\n                 'Robbery','Theft and Handling','Violence Against the Person','Total']]\n\nLd_crime.head()"
        },
        {
            "cell_type": "code",
            "execution_count": null,
            "metadata": {},
            "outputs": [],
            "source": ""
        }
    ],
    "metadata": {
        "kernelspec": {
            "display_name": "Python 3.6",
            "language": "python",
            "name": "python3"
        },
        "language_info": {
            "codemirror_mode": {
                "name": "ipython",
                "version": 3
            },
            "file_extension": ".py",
            "mimetype": "text/x-python",
            "name": "python",
            "nbconvert_exporter": "python",
            "pygments_lexer": "ipython3",
            "version": "3.6.9"
        }
    },
    "nbformat": 4,
    "nbformat_minor": 1
}